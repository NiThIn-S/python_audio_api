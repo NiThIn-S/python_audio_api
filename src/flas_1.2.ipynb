{
 "cells": [
  {
   "cell_type": "code",
   "execution_count": 1,
   "metadata": {},
   "outputs": [],
   "source": [
    "from flask import Flask\n",
    "from flask import render_template\n",
    "from flask_pymongo import PyMongo\n",
    "from flask import jsonify\n",
    "from flask import request\n",
    "from flask_restful import Api, Resource\n",
    "import datetime\n",
    "import validater"
   ]
  },
  {
   "cell_type": "code",
   "execution_count": 2,
   "metadata": {},
   "outputs": [],
   "source": [
    "app = Flask(__name__)\n",
    "api = Api(app)\n",
    "\n",
    "app.config[\"MONGO_URI\"] = \"mongodb://localhost:27017/mydatabase\"\n",
    "mongo = PyMongo(app)\n",
    "\n",
    "def success():\n",
    "    \"\"\" Displaying Success message.\"\"\"\n",
    "    return \"200 OK\"\n",
    "\n",
    "@app.errorhandler(404)\n",
    "def not_found(e): \n",
    "    \"\"\"Changing 404 not found to 400 Bad request\"\"\"\n",
    "    return \"400 Bad request\"\n",
    "\n",
    "@app.errorhandler(400)\n",
    "def bad_request():\n",
    "    \"\"\"Bad request.\"\"\"\n",
    "    return \"400 Bad request\"\n",
    "\n",
    "@app.errorhandler(500)\n",
    "def server_error():\n",
    "    \"\"\"Internal server error.\"\"\"\n",
    "    return \"500 Internel Server error\""
   ]
  },
  {
   "cell_type": "code",
   "execution_count": 3,
   "metadata": {},
   "outputs": [],
   "source": [
    "@app.route('/<string:audiofiletype>/<int:_id>/get',methods=['GET'])\n",
    "def get_a_file(audiofiletype,_id):\n",
    "    \"\"\"\n",
    "    Get a single file using the id given.\n",
    "    \"\"\"\n",
    "    aud = mongo.db[audiofiletype]\n",
    "    output = aud.find_one(_id)\n",
    "    return jsonify(output)\n",
    "\n",
    "@app.route('/<string:audiofiletype>',methods=['GET']) \n",
    "def get_all_files(audiofiletype):\n",
    "    \"\"\"\n",
    "    Get all audio files of the mentioned type.\n",
    "    This function uses dictionary to retrieve the common data\n",
    "    irrespective of the Audiofiletype. Then updates the dictionary \n",
    "    with the data specific to it's type.\n",
    "    \n",
    "    \"\"\"\n",
    "    aud = mongo.db[audiofiletype]\n",
    "    output = []\n",
    "    for c in aud.find():\n",
    "        dict1 = dict()\n",
    "        dict1.update({'id':c['_id'],\n",
    "                      'Duration_in_seconds':c['Duration_in_seconds'],\n",
    "                      'uploaded_time':c['uploaded_time']})\n",
    "        \n",
    "        if(audiofiletype.lower()=='song'):\n",
    "            dict1.update({\"name_of_the_song\":c['name_of_the_song']})\n",
    "\n",
    "        elif(audiofiletype.lower()=='podcast'):\n",
    "            dict1.update({'name_of_the_podcast':c['name_of_the_podcast'],\n",
    "                           'host':c['host'],\n",
    "                           'participants':c['participants']\n",
    "                           })\n",
    "        elif(audiofiletype.lower()=='audiobook'):\n",
    "            dict1.update({'title_of_the_audiobook':c['title_of_the_audiobook'],\n",
    "                           'author_of_title':c['author_of_title'],\n",
    "                           'narrator':c['narrator']\n",
    "                           })\n",
    "        else:\n",
    "            return bad_request()\n",
    "        \n",
    "        output.append(dict1)\n",
    "        \n",
    "    return jsonify({'result' : output})"
   ]
  },
  {
   "cell_type": "code",
   "execution_count": 4,
   "metadata": {},
   "outputs": [],
   "source": [
    "@app.route('/<string:audiofiletype>/<int:_id>/delete',methods=['GET','POST'])\n",
    "def delete_a_file(audiofiletype,_id):\n",
    "    \"\"\"\n",
    "    Deleting a file using the id.\n",
    "    \"\"\"\n",
    "    if(type(mongo.db[audiofiletype].find_one(_id)) != dict):\n",
    "        return bad_request()\n",
    "    else:\n",
    "        try:\n",
    "            mongo.db[audiofiletype].delete_one({\"_id\":_id})\n",
    "            return success()\n",
    "        except:\n",
    "            return server_error()"
   ]
  },
  {
   "cell_type": "code",
   "execution_count": 5,
   "metadata": {},
   "outputs": [],
   "source": [
    "@app.route('/<string:audiofiletype>/create', methods = ['GET','POST'])\n",
    "def insert_a_file(audiofiletype):\n",
    "    \"\"\"\n",
    "    Creating a new file based on the information given.\n",
    "    \"\"\"\n",
    "    meta = validater.get_meta(request,audiofiletype)\n",
    "    if(-1 in meta.values()):\n",
    "        return bad_request()\n",
    "    else:\n",
    "        try:\n",
    "            mongo.db[audiofiletype].insert_one(meta)\n",
    "            return success()\n",
    "        except:\n",
    "            return bad_request()"
   ]
  },
  {
   "cell_type": "code",
   "execution_count": 6,
   "metadata": {},
   "outputs": [],
   "source": [
    "@app.route('/<string:audiofiletype>/<int:_id>/update', methods = ['GET','POST'])\n",
    "def update_a_file(audiofiletype,_id):\n",
    "    \"\"\"\n",
    "    Updating an existing file using its id.\n",
    "    \"\"\"\n",
    "    if(type(mongo.db[audiofiletype].find_one(_id)) != dict):\n",
    "        return bad_request()\n",
    "    else:\n",
    "        myquery = { \"_id\": int(_id) }\n",
    "        meta = validater.get_meta(request,audiofiletype,id1=True)\n",
    "        newvalues = { \"$set\": meta }\n",
    "        if(-1 in meta.values()):\n",
    "            return bad_request()\n",
    "        else:\n",
    "            try:\n",
    "                mongo.db[audiofiletype].update_one(myquery,newvalues)\n",
    "                return success()\n",
    "            except:\n",
    "                return server_error()"
   ]
  },
  {
   "cell_type": "markdown",
   "metadata": {},
   "source": [
    "#### Running the application"
   ]
  },
  {
   "cell_type": "code",
   "execution_count": 7,
   "metadata": {},
   "outputs": [
    {
     "name": "stdout",
     "output_type": "stream",
     "text": [
      " * Serving Flask app \"__main__\" (lazy loading)\n",
      " * Environment: production\n",
      "   WARNING: This is a development server. Do not use it in a production deployment.\n",
      "   Use a production WSGI server instead.\n",
      " * Debug mode: off\n"
     ]
    },
    {
     "name": "stderr",
     "output_type": "stream",
     "text": [
      " * Running on http://127.0.0.1:9000/ (Press CTRL+C to quit)\n",
      "127.0.0.1 - - [14/Mar/2021 00:02:56] \"\u001b[37mGET /podcast/5/get HTTP/1.1\u001b[0m\" 200 -\n",
      "127.0.0.1 - - [14/Mar/2021 00:03:00] \"\u001b[37mGET /podcast HTTP/1.1\u001b[0m\" 200 -\n"
     ]
    }
   ],
   "source": [
    "if __name__ == \"__main__\":\n",
    "    \n",
    "    # Initializing MongoDB if its not already present in the server.\n",
    "    import pymongo\n",
    "    myclient = pymongo.MongoClient(\"mongodb://localhost:27017/\")\n",
    "    mydb = myclient[\"mydatabase\"]\n",
    "    mydb[\"song\"]\n",
    "    mydb[\"podcast\"]\n",
    "    mydb[\"audiobook\"]\n",
    "    \n",
    "    # Running the application\n",
    "    app.run(debug=False,port=9000)"
   ]
  },
  {
   "cell_type": "code",
   "execution_count": null,
   "metadata": {},
   "outputs": [],
   "source": []
  }
 ],
 "metadata": {
  "kernelspec": {
   "display_name": "Python 3",
   "language": "python",
   "name": "python3"
  },
  "language_info": {
   "codemirror_mode": {
    "name": "ipython",
    "version": 3
   },
   "file_extension": ".py",
   "mimetype": "text/x-python",
   "name": "python",
   "nbconvert_exporter": "python",
   "pygments_lexer": "ipython3",
   "version": "3.6.10"
  }
 },
 "nbformat": 4,
 "nbformat_minor": 4
}
